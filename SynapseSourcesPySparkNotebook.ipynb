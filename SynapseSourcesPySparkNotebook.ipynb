{
  "cells": [
    {
      "cell_type": "code",
      "execution_count": null,
      "metadata": {
        "collapsed": false,
        "jupyter": {
          "outputs_hidden": false,
          "source_hidden": false
        },
        "microsoft": {
          "language": "python"
        },
        "nteract": {
          "transient": {
            "deleting": false
          }
        }
      },
      "outputs": [],
      "source": [
        "%%pyspark\n",
        "from pyspark.sql.functions import col\n",
        "\n",
        "iowa2022 = spark.table(\"iowa.iowa2022\").select(col(\"County\"), col(\"City\")).limit(1)\n",
        "iowa2022.createOrReplaceTempView(\"iowa2022\")\n",
        "\n",
        "iowa2022.show()"
      ]
    },
    {
      "cell_type": "code",
      "execution_count": null,
      "metadata": {
        "jupyter": {
          "outputs_hidden": false,
          "source_hidden": false
        },
        "microsoft": {
          "language": "scala"
        },
        "nteract": {
          "transient": {
            "deleting": false
          }
        }
      },
      "outputs": [],
      "source": [
        "%%spark\n",
        "\n",
        "val iowa2021 = spark.read.synapsesql(\"sqldedicated.dbo.iowa2021\").select($\"County\", $\"City\").limit(1)\n",
        "iowa2021.createOrReplaceTempView(\"iowa2021\")\n",
        "\n",
        "iowa2021.show()"
      ]
    },
    {
      "cell_type": "code",
      "execution_count": null,
      "metadata": {
        "jupyter": {
          "outputs_hidden": false,
          "source_hidden": false
        },
        "microsoft": {
          "language": "python"
        },
        "nteract": {
          "transient": {
            "deleting": false
          }
        }
      },
      "outputs": [],
      "source": [
        "%%pyspark\n",
        "\n",
        "iowa2019 = spark.read.load(\n",
        "    'abfss://[ADLS address].dfs.core.windows.net/IowaLiquorSalesdf2019.parquet', \n",
        "    format='parquet'\n",
        "    ).select(col(\"County\"), col(\"City\")).limit(1)\n",
        "iowa2019.createOrReplaceTempView(\"iowa2019\")\n",
        "\n",
        "iowa2019.show()"
      ]
    },
    {
      "cell_type": "code",
      "execution_count": null,
      "metadata": {
        "jupyter": {
          "outputs_hidden": false,
          "source_hidden": false
        },
        "nteract": {
          "transient": {
            "deleting": false
          }
        }
      },
      "outputs": [],
      "source": [
        "import pkg_resources\n",
        "for pckg in pkg_resources.working_set:\n",
        "          print(pchg)"
      ]
    },
    {
      "cell_type": "code",
      "execution_count": 24,
      "metadata": {
        "jupyter": {
          "outputs_hidden": false,
          "source_hidden": false
        },
        "nteract": {
          "transient": {
            "deleting": false
          }
        }
      },
      "outputs": [
        {
          "data": {
            "application/vnd.livy.statement-meta+json": {
              "execution_finish_time": "2022-04-13T20:09:09.5240069Z",
              "execution_start_time": "2022-04-13T20:09:08.439071Z",
              "livy_statement_state": "available",
              "queued_time": "2022-04-13T20:09:07.9074581Z",
              "session_id": 27,
              "session_start_time": null,
              "spark_pool": "efsynapsespark",
              "state": "finished",
              "statement_id": 25
            },
            "text/plain": [
              "StatementMeta(efsynapsespark, 27, 25, Finished, Available)"
            ]
          },
          "metadata": {},
          "output_type": "display_data"
        }
      ],
      "source": [
        "import adal\n",
        "\n",
        "def SqlServerlessAccess():\n",
        "    tenant_id = \"00\"\n",
        "    authority = \"https://login.windows.net/\" + tenant_id\n",
        "    resource_app_id_url = \"https://database.windows.net/\"\n",
        "    service_principal_id = \"8c\"\n",
        "    service_principal_secret = \"kV\"\n",
        "    url = \"jdbc:sqlserver://{serverless-endpoint-name}-synapse-ondemand.sql.azuresynapse.net\"\n",
        "    database_name = \"sqlserverless\"\n",
        "    db_table = \"dbo.iowa2020\" \n",
        "    encrypt = \"true\"\n",
        "    host_name_in_certificate = \"*.database.windows.net\"\n",
        "    context = adal.AuthenticationContext(authority)\n",
        "    token = context.acquire_token_with_client_credentials(resource_app_id_url, \n",
        "                                                            service_principal_id, \n",
        "                                                            service_principal_secret)\n",
        "    access_token = token[\"accessToken\"]\n",
        "\n",
        "    return url, db_table, access_token, encrypt, database_name, host_name_in_certificate\n",
        "\n",
        "url, db_table, access_token, encrypt, database_name, host_name_in_certificate = SqlServerlessAccess()"
      ]
    },
    {
      "cell_type": "code",
      "execution_count": null,
      "metadata": {
        "collapsed": false,
        "jupyter": {
          "outputs_hidden": false,
          "source_hidden": false
        },
        "nteract": {
          "transient": {
            "deleting": false
          }
        }
      },
      "outputs": [],
      "source": [
        "iowa2020 = spark.read.format(\"com.microsoft.sqlserver.jdbc.spark\") \\\n",
        "              .option(\"url\", url) \\\n",
        "              .option(\"dbtable\", db_table) \\\n",
        "              .option(\"accessToken\", access_token) \\\n",
        "              .option(\"encrypt\", encrypt) \\\n",
        "              .option(\"databaseName\", database_name) \\\n",
        "              .option(\"hostNameInCertificate\", host_name_in_certificate) \\\n",
        "              .load() \\\n",
        "              .select(col(\"County\"), col(\"City\")).limit(1)\n",
        "iowa2020.createOrReplaceTempView(\"iowa2020\")\n",
        "\n",
        "iowa2020.show()"
      ]
    },
    {
      "cell_type": "code",
      "execution_count": null,
      "metadata": {
        "collapsed": false,
        "jupyter": {
          "outputs_hidden": false,
          "source_hidden": false
        },
        "microsoft": {
          "language": "sparksql"
        },
        "nteract": {
          "transient": {
            "deleting": false
          }
        }
      },
      "outputs": [],
      "source": [
        "%%sql\n",
        "SELECT * FROM iowa2022\n",
        "UNION ALL\n",
        "SELECT * FROM iowa2021\n",
        "UNION ALL\n",
        "SELECT * FROM iowa2020\n",
        "UNION ALL\n",
        "SELECT * FROM iowa2019"
      ]
    },
    {
      "cell_type": "code",
      "execution_count": null,
      "metadata": {},
      "outputs": [],
      "source": [
        "%sql\n",
        "WITH CTE_main\n",
        "AS(\n",
        "    SELECT TOP 1 [County], [City]\n",
        "    FROM [iowa].[dbo].[iowa2022] --SPARK TABLE\n",
        "\n",
        "    UNION ALL\n",
        "\n",
        "    SELECT TOP 1 [County] COLLATE Latin1_General_100_BIN2_UTF8, [City] COLLATE Latin1_General_100_BIN2_UTF8\n",
        "    FROM [sqlserverless].[dbo].[iowa2020] --SERVERLESS DB\n",
        "\n",
        "    UNION ALL\n",
        "\n",
        "    SELECT TOP 1 [County], [City]\n",
        "    FROM OPENROWSET(\n",
        "        BULK 'abfss://[ADLS].dfs.core.windows.net/IowaLiquorSalesdf2019.parquet', \n",
        "        FORMAT = 'parquet') AS ROWS --DATA LAKE PARQUET FILE\n",
        ")\n",
        "\n",
        "SELECT * FROM CTE_main"
      ]
    }
  ],
  "metadata": {
    "description": null,
    "kernelspec": {
      "display_name": "Synapse PySpark",
      "name": "synapse_pyspark"
    },
    "language_info": {
      "name": "python"
    },
    "save_output": true,
    "synapse_widget": {
      "state": {},
      "version": "0.1"
    }
  },
  "nbformat": 4,
  "nbformat_minor": 2
}
