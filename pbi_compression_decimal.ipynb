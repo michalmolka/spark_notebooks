{
  "cells": [
    {
      "cell_type": "code",
      "source": [
        "import random, string\r\n",
        "\r\n",
        "category_list = []\r\n",
        "for i in range(0,1000):\r\n",
        "    category_name = ''.join(random.choice(string.ascii_letters) for _ in range(15))\r\n",
        "    category_dict = {\"Category\" : category_name}\r\n",
        "    category_list.append(category_dict)\r\n",
        "print(category_list[0:40])\r\n",
        "print(type(category_list))"
      ],
      "outputs": [],
      "execution_count": null,
      "metadata": {
        "jupyter": {
          "source_hidden": false,
          "outputs_hidden": false
        },
        "nteract": {
          "transient": {
            "deleting": false
          }
        }
      }
    },
    {
      "cell_type": "code",
      "source": [
        "example_dataframe = spark.createDataFrame(category_list*50000)"
      ],
      "outputs": [],
      "execution_count": null,
      "metadata": {
        "jupyter": {
          "source_hidden": false,
          "outputs_hidden": false
        },
        "nteract": {
          "transient": {
            "deleting": false
          }
        }
      }
    },
    {
      "cell_type": "code",
      "source": [
        "from random import randrange\r\n",
        "from pyspark.sql.functions import rand, abs, round, col\r\n",
        "\r\n",
        "from pyspark.sql.types import IntegerType\r\n",
        "example_dataframe = (example_dataframe\r\n",
        "    .withColumn(\"IntegerDecimal\", round(abs(rand(seed=16))*10000*abs(rand(seed=15)),2))\r\n",
        "    .withColumn(\"Integer\",col(\"IntegerDecimal\").cast(IntegerType()))\r\n",
        "    .withColumn(\"Decimal\", round(col(\"IntegerDecimal\")%1, 2))\r\n",
        "\r\n",
        "    )"
      ],
      "outputs": [],
      "execution_count": null,
      "metadata": {
        "jupyter": {
          "source_hidden": false,
          "outputs_hidden": false
        },
        "nteract": {
          "transient": {
            "deleting": false
          }
        }
      }
    },
    {
      "cell_type": "code",
      "source": [
        "display(example_dataframe.limit(10))"
      ],
      "outputs": [],
      "execution_count": null,
      "metadata": {
        "jupyter": {
          "source_hidden": false,
          "outputs_hidden": false
        },
        "nteract": {
          "transient": {
            "deleting": false
          }
        },
        "collapsed": false
      }
    },
    {
      "cell_type": "code",
      "source": [
        "example_dataframe.count()"
      ],
      "outputs": [],
      "execution_count": null,
      "metadata": {
        "jupyter": {
          "source_hidden": false,
          "outputs_hidden": false
        },
        "nteract": {
          "transient": {
            "deleting": false
          }
        }
      }
    },
    {
      "cell_type": "code",
      "source": [
        "example_dataframe.write \\\r\n",
        "    .mode(\"overwrite\")\\\r\n",
        "    .saveAsTable('iowaliquorsales.random_numbers')"
      ],
      "outputs": [],
      "execution_count": null,
      "metadata": {
        "jupyter": {
          "source_hidden": false,
          "outputs_hidden": false
        },
        "nteract": {
          "transient": {
            "deleting": false
          }
        }
      }
    },
    {
      "cell_type": "code",
      "source": [
        "%%sql\r\n",
        "SELECT * FROM iowaliquorsales.random_numbers LIMIT 100"
      ],
      "outputs": [],
      "execution_count": null,
      "metadata": {
        "jupyter": {
          "source_hidden": false,
          "outputs_hidden": false
        },
        "nteract": {
          "transient": {
            "deleting": false
          }
        },
        "microsoft": {
          "language": "sparksql"
        },
        "collapsed": false
      }
    }
  ],
  "metadata": {
    "kernelspec": {
      "name": "synapse_pyspark",
      "display_name": "Synapse PySpark"
    },
    "language_info": {
      "name": "python"
    },
    "description": null,
    "save_output": true,
    "synapse_widget": {
      "version": "0.1",
      "state": {}
    }
  },
  "nbformat": 4,
  "nbformat_minor": 2
}