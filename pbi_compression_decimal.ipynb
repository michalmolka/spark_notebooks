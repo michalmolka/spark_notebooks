{
  "nbformat": 4,
  "nbformat_minor": 2,
  "metadata": {
    "kernelspec": {
      "name": "synapse_pyspark",
      "display_name": "Synapse PySpark"
    },
    "language_info": {
      "name": "python"
    },
    "description": null,
    "save_output": true,
    "synapse_widget": {
      "version": "0.1",
      "state": {
        "6df51643-3a92-4476-83f2-05f432f317ae": {
          "type": "Synapse.DataFrame",
          "sync_state": {
            "table": {
              "rows": [
                {
                  "0": "bzDzGAPNmseOHCG",
                  "1": "4809.52",
                  "2": "4809",
                  "3": "0.52"
                },
                {
                  "0": "pqzawTEMnnzvuqC",
                  "1": "126.68",
                  "2": "126",
                  "3": "0.68"
                },
                {
                  "0": "bmWyceMNfQMUxCV",
                  "1": "68.76",
                  "2": "68",
                  "3": "0.76"
                },
                {
                  "0": "qORvZWpgoiIsevG",
                  "1": "915.64",
                  "2": "915",
                  "3": "0.64"
                },
                {
                  "0": "nCqEjPIPKJHRzIz",
                  "1": "929.85",
                  "2": "929",
                  "3": "0.85"
                },
                {
                  "0": "FOdDcUbuuYcgLAD",
                  "1": "5561.59",
                  "2": "5561",
                  "3": "0.59"
                },
                {
                  "0": "HhUVHSEBcoFkArh",
                  "1": "4741.83",
                  "2": "4741",
                  "3": "0.83"
                },
                {
                  "0": "ArmUqGBZDpsCcvY",
                  "1": "4389.04",
                  "2": "4389",
                  "3": "0.04"
                },
                {
                  "0": "tsdHWwrySoRDtpK",
                  "1": "229.33",
                  "2": "229",
                  "3": "0.33"
                },
                {
                  "0": "JvSEHDGnhicinOj",
                  "1": "3613.9",
                  "2": "3613",
                  "3": "0.9"
                }
              ],
              "schema": [
                {
                  "key": "0",
                  "name": "Category",
                  "type": "string"
                },
                {
                  "key": "1",
                  "name": "IntegerDecimal",
                  "type": "double"
                },
                {
                  "key": "2",
                  "name": "Integer",
                  "type": "int"
                },
                {
                  "key": "3",
                  "name": "Decimal",
                  "type": "double"
                }
              ],
              "truncated": false
            },
            "isSummary": false,
            "language": "scala"
          },
          "persist_state": {
            "view": {
              "type": "details",
              "tableOptions": {},
              "chartOptions": {
                "chartType": "bar",
                "aggregationType": "sum",
                "categoryFieldKeys": [
                  "0"
                ],
                "seriesFieldKeys": [
                  "1"
                ],
                "isStacked": false
              }
            }
          }
        }
      }
    }
  },
  "cells": [
    {
      "cell_type": "code",
      "execution_count": 31,
      "outputs": [
        {
          "output_type": "display_data",
          "data": {
            "application/vnd.livy.statement-meta+json": {
              "spark_pool": "efsynapsespark",
              "session_id": 7,
              "statement_id": 31,
              "state": "finished",
              "livy_statement_state": "available",
              "queued_time": "2022-04-07T17:06:18.9059275Z",
              "session_start_time": null,
              "execution_start_time": "2022-04-07T17:06:19.3929738Z",
              "execution_finish_time": "2022-04-07T17:06:19.8607204Z"
            },
            "text/plain": "StatementMeta(efsynapsespark, 7, 31, Finished, Available)"
          },
          "metadata": {}
        },
        {
          "output_type": "stream",
          "name": "stdout",
          "text": [
            "[{'Category': 'IRrZekCcsALhRfS'}, {'Category': 'ITRBdXEhvODriOg'}, {'Category': 'stRGZmNmziSnCJw'}, {'Category': 'mbOTKWGwTkMZfaU'}, {'Category': 'NOcPmnLsdCNzFXM'}, {'Category': 'akpZkfTtMjHjYKs'}, {'Category': 'JXUVmGSJIZLNtBj'}, {'Category': 'kkrGCRtnFFozfTu'}, {'Category': 'stRaVAuByCnmFnh'}, {'Category': 'OjaInlmDjYCOUdG'}, {'Category': 'oVhOXBiLsZBAFEG'}, {'Category': 'rfDEMmdGZgVHSDZ'}, {'Category': 'RjeADETccKgWcSu'}, {'Category': 'CPyrVwFRlAwkRKX'}, {'Category': 'fISBqUwlRlrJtYK'}, {'Category': 'CLQVdYBrgXHZWYW'}, {'Category': 'JjffuSWmWSJoCYa'}, {'Category': 'KCzAXnCmCQqikxZ'}, {'Category': 'LVPKForcxicHBiI'}, {'Category': 'dWFTXPIDzCgecsO'}, {'Category': 'iUSCRTCyqiQnKzb'}, {'Category': 'WFLnZeRUitMgkWp'}, {'Category': 'XcMgcWTIqkvBElx'}, {'Category': 'EhyhyTScJcGFHYw'}, {'Category': 'grGIGfCFBMfSstl'}, {'Category': 'UOzixUEXwWFGnYl'}, {'Category': 'aaNbNbPRzPwFWtV'}, {'Category': 'EaetikbjbCBKKDi'}, {'Category': 'UrCwywQqKgijVDX'}, {'Category': 'MzyEppdFZyJvlbY'}, {'Category': 'JqgAwswsjuqXKnO'}, {'Category': 'axrnXqMgzZFBNce'}, {'Category': 'cwLSaSuOzGecRVF'}, {'Category': 'BltVCMOhxytqcqK'}, {'Category': 'EtrpJCEzGFsrDod'}, {'Category': 'AshQFTXXAVGEDWD'}, {'Category': 'TeiXLUhQkeywGhp'}, {'Category': 'LdNjJkgEiuoDhLJ'}, {'Category': 'bhwYAPEXHHxfsvf'}, {'Category': 'aUFZVDDJHHRzCWP'}]\n<class 'list'>"
          ]
        }
      ],
      "metadata": {
        "jupyter": {
          "source_hidden": false,
          "outputs_hidden": false
        },
        "nteract": {
          "transient": {
            "deleting": false
          }
        }
      },
      "source": [
        "import random, string\r\n",
        "\r\n",
        "category_list = []\r\n",
        "for i in range(0,1000):\r\n",
        "    category_name = ''.join(random.choice(string.ascii_letters) for _ in range(15))\r\n",
        "    category_dict = {\"Category\" : category_name}\r\n",
        "    category_list.append(category_dict)\r\n",
        "print(category_list[0:40])\r\n",
        "print(type(category_list))"
      ]
    },
    {
      "cell_type": "code",
      "execution_count": 32,
      "outputs": [
        {
          "output_type": "display_data",
          "data": {
            "application/vnd.livy.statement-meta+json": {
              "spark_pool": "efsynapsespark",
              "session_id": 7,
              "statement_id": 32,
              "state": "finished",
              "livy_statement_state": "available",
              "queued_time": "2022-04-07T17:06:18.9585316Z",
              "session_start_time": null,
              "execution_start_time": "2022-04-07T17:06:20.2523913Z",
              "execution_finish_time": "2022-04-07T17:18:48.1581426Z"
            },
            "text/plain": "StatementMeta(efsynapsespark, 7, 32, Finished, Available)"
          },
          "metadata": {}
        }
      ],
      "metadata": {
        "jupyter": {
          "source_hidden": false,
          "outputs_hidden": false
        },
        "nteract": {
          "transient": {
            "deleting": false
          }
        }
      },
      "source": [
        "example_dataframe = spark.createDataFrame(category_list*50000)"
      ]
    },
    {
      "cell_type": "code",
      "execution_count": 33,
      "outputs": [
        {
          "output_type": "display_data",
          "data": {
            "application/vnd.livy.statement-meta+json": {
              "spark_pool": "efsynapsespark",
              "session_id": 7,
              "statement_id": 33,
              "state": "finished",
              "livy_statement_state": "available",
              "queued_time": "2022-04-07T17:06:19.0850266Z",
              "session_start_time": null,
              "execution_start_time": "2022-04-07T17:18:48.5432149Z",
              "execution_finish_time": "2022-04-07T17:18:48.9507782Z"
            },
            "text/plain": "StatementMeta(efsynapsespark, 7, 33, Finished, Available)"
          },
          "metadata": {}
        }
      ],
      "metadata": {
        "jupyter": {
          "source_hidden": false,
          "outputs_hidden": false
        },
        "nteract": {
          "transient": {
            "deleting": false
          }
        }
      },
      "source": [
        "from random import randrange\r\n",
        "from pyspark.sql.functions import rand, abs, round, col\r\n",
        "\r\n",
        "from pyspark.sql.types import IntegerType\r\n",
        "example_dataframe = (example_dataframe\r\n",
        "    .withColumn(\"IntegerDecimal\", round(abs(rand(seed=16))*10000*abs(rand(seed=15)),2))\r\n",
        "    .withColumn(\"Integer\",col(\"IntegerDecimal\").cast(IntegerType()))\r\n",
        "    .withColumn(\"Decimal\", round(col(\"IntegerDecimal\")%1, 2))\r\n",
        "\r\n",
        "    )"
      ]
    },
    {
      "cell_type": "code",
      "execution_count": 34,
      "outputs": [
        {
          "output_type": "display_data",
          "data": {
            "application/vnd.livy.statement-meta+json": {
              "spark_pool": "efsynapsespark",
              "session_id": 7,
              "statement_id": 34,
              "state": "finished",
              "livy_statement_state": "available",
              "queued_time": "2022-04-07T17:06:19.1484314Z",
              "session_start_time": null,
              "execution_start_time": "2022-04-07T17:18:49.3120242Z",
              "execution_finish_time": "2022-04-07T17:19:00.7014498Z"
            },
            "text/plain": "StatementMeta(efsynapsespark, 7, 34, Finished, Available)"
          },
          "metadata": {}
        },
        {
          "output_type": "display_data",
          "data": {
            "application/vnd.synapse.widget-view+json": {
              "widget_id": "6df51643-3a92-4476-83f2-05f432f317ae",
              "widget_type": "Synapse.DataFrame"
            },
            "text/plain": "SynapseWidget(Synapse.DataFrame, 6df51643-3a92-4476-83f2-05f432f317ae)"
          },
          "metadata": {}
        }
      ],
      "metadata": {
        "jupyter": {
          "source_hidden": false,
          "outputs_hidden": false
        },
        "nteract": {
          "transient": {
            "deleting": false
          }
        },
        "collapsed": false
      },
      "source": [
        "display(example_dataframe.limit(10))"
      ]
    },
    {
      "cell_type": "code",
      "execution_count": 35,
      "outputs": [
        {
          "output_type": "display_data",
          "data": {
            "application/vnd.livy.statement-meta+json": {
              "spark_pool": "efsynapsespark",
              "session_id": 7,
              "statement_id": 35,
              "state": "finished",
              "livy_statement_state": "available",
              "queued_time": "2022-04-07T17:06:19.2117684Z",
              "session_start_time": null,
              "execution_start_time": "2022-04-07T17:19:01.0710034Z",
              "execution_finish_time": "2022-04-07T17:19:25.3399519Z"
            },
            "text/plain": "StatementMeta(efsynapsespark, 7, 35, Finished, Available)"
          },
          "metadata": {}
        },
        {
          "output_type": "display_data",
          "data": {
            "text/plain": "50000000"
          },
          "metadata": {}
        }
      ],
      "metadata": {
        "jupyter": {
          "source_hidden": false,
          "outputs_hidden": false
        },
        "nteract": {
          "transient": {
            "deleting": false
          }
        }
      },
      "source": [
        "example_dataframe.count()"
      ]
    },
    {
      "cell_type": "code",
      "execution_count": 36,
      "outputs": [
        {
          "output_type": "display_data",
          "data": {
            "application/vnd.livy.statement-meta+json": {
              "spark_pool": "efsynapsespark",
              "session_id": 7,
              "statement_id": 36,
              "state": "finished",
              "livy_statement_state": "available",
              "queued_time": "2022-04-07T17:06:19.3271806Z",
              "session_start_time": null,
              "execution_start_time": "2022-04-07T17:19:26.0219659Z",
              "execution_finish_time": "2022-04-07T17:20:20.9360992Z"
            },
            "text/plain": "StatementMeta(efsynapsespark, 7, 36, Finished, Available)"
          },
          "metadata": {}
        }
      ],
      "metadata": {
        "jupyter": {
          "source_hidden": false,
          "outputs_hidden": false
        },
        "nteract": {
          "transient": {
            "deleting": false
          }
        }
      },
      "source": [
        "example_dataframe.write \\\r\n",
        "    .mode(\"overwrite\")\\\r\n",
        "    .saveAsTable('iowaliquorsales.random_numbers')"
      ]
    },
    {
      "cell_type": "code",
      "execution_count": 37,
      "outputs": [
        {
          "output_type": "display_data",
          "data": {
            "application/vnd.livy.statement-meta+json": {
              "spark_pool": "efsynapsespark",
              "session_id": 7,
              "statement_id": 37,
              "state": "finished",
              "livy_statement_state": "available",
              "queued_time": "2022-04-07T17:06:19.4108574Z",
              "session_start_time": null,
              "execution_start_time": "2022-04-07T17:20:21.4408812Z",
              "execution_finish_time": "2022-04-07T17:20:24.3532351Z"
            },
            "text/plain": "StatementMeta(efsynapsespark, 7, 37, Finished, Available)"
          },
          "metadata": {}
        },
        {
          "output_type": "execute_result",
          "data": {
            "application/vnd.synapse.sparksql-result+json": {
              "schema": {
                "type": "struct",
                "fields": [
                  {
                    "name": "Category",
                    "type": "string",
                    "nullable": true,
                    "metadata": {}
                  },
                  {
                    "name": "IntegerDecimal",
                    "type": "double",
                    "nullable": true,
                    "metadata": {}
                  },
                  {
                    "name": "Integer",
                    "type": "integer",
                    "nullable": true,
                    "metadata": {}
                  },
                  {
                    "name": "Decimal",
                    "type": "double",
                    "nullable": true,
                    "metadata": {}
                  }
                ]
              },
              "data": [
                [
                  "dlXmRssfdXWiUPq",
                  2834.04,
                  2834,
                  0.04
                ],
                [
                  "DsDlQnoFMUMarwm",
                  1856.87,
                  1856,
                  0.87
                ],
                [
                  "ikILpKuRDfbzrnQ",
                  3628.76,
                  3628,
                  0.76
                ],
                [
                  "mEUjhwtEAYDnpJS",
                  415.43,
                  415,
                  0.43
                ],
                [
                  "crZWkdUNtoXhFpk",
                  1695.51,
                  1695,
                  0.51
                ],
                [
                  "hBSwQuFPMhtrcTA",
                  545.25,
                  545,
                  0.25
                ],
                [
                  "hfDSRLBavyIXVTB",
                  656.96,
                  656,
                  0.96
                ],
                [
                  "UxZNRLXJJzzVtPX",
                  972.27,
                  972,
                  0.27
                ],
                [
                  "yZiMTuCWiAYBLQf",
                  314.53,
                  314,
                  0.53
                ],
                [
                  "JxAVzgdyNROedhW",
                  7.12,
                  7,
                  0.12
                ],
                [
                  "pFUvLSJFxlmydJN",
                  2326.61,
                  2326,
                  0.61
                ],
                [
                  "EIBPdcJxmvDxsYz",
                  5299.25,
                  5299,
                  0.25
                ],
                [
                  "JLieErVYjSkaFxi",
                  3849.03,
                  3849,
                  0.03
                ],
                [
                  "ICtTGvjfRLduGbg",
                  183.11,
                  183,
                  0.11
                ],
                [
                  "FzbpCXvHspLnJgl",
                  947.23,
                  947,
                  0.23
                ],
                [
                  "LJkHJymmQjYWVCw",
                  24.19,
                  24,
                  0.19
                ],
                [
                  "XAipmdRHgQwOCDN",
                  5684.45,
                  5684,
                  0.45
                ],
                [
                  "wPfONDPjdNEBhOc",
                  4406.43,
                  4406,
                  0.43
                ],
                [
                  "tpVFzHbDRopxtBs",
                  2360.26,
                  2360,
                  0.26
                ],
                [
                  "NraaSLLTOOtpSib",
                  1137.26,
                  1137,
                  0.26
                ],
                [
                  "ujlmYcYVICOGLPK",
                  329.55,
                  329,
                  0.55
                ],
                [
                  "rlwzchkZhDbZbMW",
                  1024.23,
                  1024,
                  0.23
                ],
                [
                  "CgzfxbvrwBidcZA",
                  1370.85,
                  1370,
                  0.85
                ],
                [
                  "EjYKeVBaXcCzPKw",
                  6418.41,
                  6418,
                  0.41
                ],
                [
                  "civMwJBjSnKIMnh",
                  1134.9,
                  1134,
                  0.9
                ],
                [
                  "bePbDNZEFLbrweh",
                  3442.17,
                  3442,
                  0.17
                ],
                [
                  "zLSXQnUrEParijF",
                  9276.77,
                  9276,
                  0.77
                ],
                [
                  "xmZrYSOUaakdPYH",
                  3212.63,
                  3212,
                  0.63
                ],
                [
                  "htbVMmaMaiDslza",
                  2104.95,
                  2104,
                  0.95
                ],
                [
                  "PqIdgJHoEDiNcsd",
                  5131.98,
                  5131,
                  0.98
                ],
                [
                  "kkCJdaLtOJggtOa",
                  4994.61,
                  4994,
                  0.61
                ],
                [
                  "XwkyEdgvcDJQgTc",
                  7311.56,
                  7311,
                  0.56
                ],
                [
                  "OAKgCUyLUlHCKwS",
                  3199.87,
                  3199,
                  0.87
                ],
                [
                  "pFUrMVPpzpIhasP",
                  3058.09,
                  3058,
                  0.09
                ],
                [
                  "WZksgiBYETEepRa",
                  157.77,
                  157,
                  0.77
                ],
                [
                  "daJXYjjJCpGZQYt",
                  2725.28,
                  2725,
                  0.28
                ],
                [
                  "hNgAfyhSdRxdvSn",
                  2.2,
                  2,
                  0.2
                ],
                [
                  "QZUyxeRFPeoaXss",
                  64.02,
                  64,
                  0.02
                ],
                [
                  "unsafWwjzmHRJbA",
                  4359.51,
                  4359,
                  0.51
                ],
                [
                  "UtYNrSZyHSjnuqn",
                  3885.19,
                  3885,
                  0.19
                ],
                [
                  "gTqncmtPjcoRWjZ",
                  1931.05,
                  1931,
                  0.05
                ],
                [
                  "ASvHxetzAGnECEu",
                  5272.23,
                  5272,
                  0.23
                ],
                [
                  "AjaVkSzuijeMgcG",
                  2622.87,
                  2622,
                  0.87
                ],
                [
                  "JENTaguOZgLqCJH",
                  313.51,
                  313,
                  0.51
                ],
                [
                  "ikdOPqKcttDswoX",
                  88.62,
                  88,
                  0.62
                ],
                [
                  "bobSuIlktSvpmZm",
                  6377.78,
                  6377,
                  0.78
                ],
                [
                  "GxXgTHaVmgZcghz",
                  4892.42,
                  4892,
                  0.42
                ],
                [
                  "WnaxMOTdfqCJKwr",
                  59.37,
                  59,
                  0.37
                ],
                [
                  "ScLrDnXsokzdfMe",
                  3674.56,
                  3674,
                  0.56
                ],
                [
                  "JeCjZjSQKlWIxYG",
                  2316.07,
                  2316,
                  0.07
                ],
                [
                  "VeIkzaiBLvftyIy",
                  1118.43,
                  1118,
                  0.43
                ],
                [
                  "TITWOBtgQEEjQdH",
                  1916.26,
                  1916,
                  0.26
                ],
                [
                  "jIutQNePbJZwEvU",
                  2918.8,
                  2918,
                  0.8
                ],
                [
                  "JTRQxNnzYNqsbqb",
                  259.57,
                  259,
                  0.57
                ],
                [
                  "eiKqEzeqfslfVuz",
                  1522.18,
                  1522,
                  0.18
                ],
                [
                  "pzmRohWcQMeoWAg",
                  932.83,
                  932,
                  0.83
                ],
                [
                  "mcPFXSNgRmOrKfB",
                  4225.43,
                  4225,
                  0.43
                ],
                [
                  "plvxQpFyqaqqtjf",
                  102.13,
                  102,
                  0.13
                ],
                [
                  "neHDPfXwRAQbpmy",
                  4612.43,
                  4612,
                  0.43
                ],
                [
                  "hPnzUgRHqgEDaKg",
                  65.11,
                  65,
                  0.11
                ],
                [
                  "TmmqocxUHCWkOmX",
                  486.26,
                  486,
                  0.26
                ],
                [
                  "nRUwjUXoeNurtdQ",
                  2175.04,
                  2175,
                  0.04
                ],
                [
                  "CISnhSNXLdxtyNe",
                  2646.08,
                  2646,
                  0.08
                ],
                [
                  "HNOmGZCAbWkMYBf",
                  3058.09,
                  3058,
                  0.09
                ],
                [
                  "IRrZekCcsALhRfS",
                  269.87,
                  269,
                  0.87
                ],
                [
                  "ITRBdXEhvODriOg",
                  2252.67,
                  2252,
                  0.67
                ],
                [
                  "stRGZmNmziSnCJw",
                  2370.69,
                  2370,
                  0.69
                ],
                [
                  "mbOTKWGwTkMZfaU",
                  6868.51,
                  6868,
                  0.51
                ],
                [
                  "NOcPmnLsdCNzFXM",
                  3036.05,
                  3036,
                  0.05
                ],
                [
                  "akpZkfTtMjHjYKs",
                  415.97,
                  415,
                  0.97
                ],
                [
                  "JXUVmGSJIZLNtBj",
                  6148.61,
                  6148,
                  0.61
                ],
                [
                  "kkrGCRtnFFozfTu",
                  47,
                  47,
                  0
                ],
                [
                  "stRaVAuByCnmFnh",
                  110.92,
                  110,
                  0.92
                ],
                [
                  "OjaInlmDjYCOUdG",
                  1259.26,
                  1259,
                  0.26
                ],
                [
                  "oVhOXBiLsZBAFEG",
                  137.44,
                  137,
                  0.44
                ],
                [
                  "rfDEMmdGZgVHSDZ",
                  377.96,
                  377,
                  0.96
                ],
                [
                  "RjeADETccKgWcSu",
                  2271.37,
                  2271,
                  0.37
                ],
                [
                  "CPyrVwFRlAwkRKX",
                  658.69,
                  658,
                  0.69
                ],
                [
                  "fISBqUwlRlrJtYK",
                  3707.44,
                  3707,
                  0.44
                ],
                [
                  "CLQVdYBrgXHZWYW",
                  3712.34,
                  3712,
                  0.34
                ],
                [
                  "JjffuSWmWSJoCYa",
                  282.87,
                  282,
                  0.87
                ],
                [
                  "KCzAXnCmCQqikxZ",
                  330.47,
                  330,
                  0.47
                ],
                [
                  "LVPKForcxicHBiI",
                  5143.49,
                  5143,
                  0.49
                ],
                [
                  "dWFTXPIDzCgecsO",
                  4739.42,
                  4739,
                  0.42
                ],
                [
                  "iUSCRTCyqiQnKzb",
                  2962.1,
                  2962,
                  0.1
                ],
                [
                  "WFLnZeRUitMgkWp",
                  996.96,
                  996,
                  0.96
                ],
                [
                  "XcMgcWTIqkvBElx",
                  443.24,
                  443,
                  0.24
                ],
                [
                  "EhyhyTScJcGFHYw",
                  2601.76,
                  2601,
                  0.76
                ],
                [
                  "grGIGfCFBMfSstl",
                  1654.69,
                  1654,
                  0.69
                ],
                [
                  "UOzixUEXwWFGnYl",
                  2586.89,
                  2586,
                  0.89
                ],
                [
                  "aaNbNbPRzPwFWtV",
                  704.17,
                  704,
                  0.17
                ],
                [
                  "EaetikbjbCBKKDi",
                  2331.23,
                  2331,
                  0.23
                ],
                [
                  "UrCwywQqKgijVDX",
                  7023.15,
                  7023,
                  0.15
                ],
                [
                  "MzyEppdFZyJvlbY",
                  597.13,
                  597,
                  0.13
                ],
                [
                  "JqgAwswsjuqXKnO",
                  1418.26,
                  1418,
                  0.26
                ],
                [
                  "axrnXqMgzZFBNce",
                  2741.23,
                  2741,
                  0.23
                ],
                [
                  "cwLSaSuOzGecRVF",
                  637.9,
                  637,
                  0.9
                ],
                [
                  "BltVCMOhxytqcqK",
                  9328.38,
                  9328,
                  0.38
                ],
                [
                  "EtrpJCEzGFsrDod",
                  1501.42,
                  1501,
                  0.42
                ],
                [
                  "AshQFTXXAVGEDWD",
                  3685.71,
                  3685,
                  0.71
                ]
              ]
            },
            "text/plain": "<Spark SQL result set with 100 rows and 4 fields>"
          },
          "execution_count": 37,
          "metadata": {}
        }
      ],
      "metadata": {
        "jupyter": {
          "source_hidden": false,
          "outputs_hidden": false
        },
        "nteract": {
          "transient": {
            "deleting": false
          }
        },
        "microsoft": {
          "language": "sparksql"
        },
        "collapsed": false
      },
      "source": [
        "%%sql\r\n",
        "\r\n",
        "SELECT * FROM iowaliquorsales.random_numbers limit 100"
      ]
    },
    {
      "cell_type": "code",
      "execution_count": null,
      "outputs": [],
      "metadata": {
        "jupyter": {
          "source_hidden": false,
          "outputs_hidden": false
        },
        "nteract": {
          "transient": {
            "deleting": false
          }
        }
      },
      "source": []
    },
    {
      "cell_type": "code",
      "execution_count": null,
      "outputs": [],
      "metadata": {
        "jupyter": {
          "source_hidden": false,
          "outputs_hidden": false
        },
        "nteract": {
          "transient": {
            "deleting": false
          }
        }
      },
      "source": []
    },
    {
      "cell_type": "code",
      "execution_count": null,
      "outputs": [],
      "metadata": {
        "jupyter": {
          "source_hidden": false,
          "outputs_hidden": false
        },
        "nteract": {
          "transient": {
            "deleting": false
          }
        }
      },
      "source": []
    }
  ]
}