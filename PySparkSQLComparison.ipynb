{
  "cells": [
    {
      "cell_type": "code",
      "source": [
        "%%pyspark\r\n",
        "\r\n",
        "spark.sql(\"create database iowa\")"
      ],
      "outputs": [],
      "execution_count": null,
      "metadata": {
        "jupyter": {
          "source_hidden": false,
          "outputs_hidden": false
        },
        "nteract": {
          "transient": {
            "deleting": false
          }
        },
        "microsoft": {
          "language": "python"
        }
      }
    },
    {
      "cell_type": "code",
      "source": [
        "%%pyspark\r\n",
        "\r\n",
        "df = spark.read.load('abfss://iowabyyear@eightfive.dfs.core.windows.net/IowaLiquorSalesdf2022.parquet', format='parquet')\r\n",
        "df.write.mode(\"overwrite\").saveAsTable(\"iowa.Iowa2022\")\r\n",
        "iowa2022 = sqlContext.table(\"iowa.iowa2022\")"
      ],
      "outputs": [
        {
          "output_type": "display_data",
          "data": {
            "application/vnd.livy.statement-meta+json": {
              "spark_pool": "efsynapsespark",
              "session_id": 24,
              "statement_id": 37,
              "state": "finished",
              "livy_statement_state": "available",
              "queued_time": "2022-04-12T15:40:57.0183792Z",
              "session_start_time": null,
              "execution_start_time": "2022-04-12T15:40:57.4346488Z",
              "execution_finish_time": "2022-04-12T15:41:09.6029159Z"
            },
            "text/plain": "StatementMeta(efsynapsespark, 24, 37, Finished, Available)"
          },
          "metadata": {}
        }
      ],
      "execution_count": 37,
      "metadata": {
        "jupyter": {
          "source_hidden": false,
          "outputs_hidden": false
        },
        "nteract": {
          "transient": {
            "deleting": false
          }
        },
        "microsoft": {
          "language": "python"
        }
      }
    },
    {
      "cell_type": "code",
      "source": [
        "%%pyspark\r\n",
        "from pyspark.sql.types import StringType, DecimalType, IntegerType\r\n",
        "\r\n",
        "iowaPopulation = spark.read.load('abfss://iowafiles@eightfive.dfs.core.windows.net/IowaPopulation.csv', format='csv', header=True)\r\n"
      ],
      "outputs": [
        {
          "output_type": "display_data",
          "data": {
            "application/vnd.livy.statement-meta+json": {
              "spark_pool": "efsynapsespark",
              "session_id": 24,
              "statement_id": 38,
              "state": "finished",
              "livy_statement_state": "available",
              "queued_time": "2022-04-12T15:41:16.5483505Z",
              "session_start_time": null,
              "execution_start_time": "2022-04-12T15:41:17.0175558Z",
              "execution_finish_time": "2022-04-12T15:41:17.5252102Z"
            },
            "text/plain": "StatementMeta(efsynapsespark, 24, 38, Finished, Available)"
          },
          "metadata": {}
        }
      ],
      "execution_count": 38,
      "metadata": {
        "jupyter": {
          "source_hidden": false,
          "outputs_hidden": false
        },
        "nteract": {
          "transient": {
            "deleting": false
          }
        },
        "microsoft": {
          "language": "python"
        },
        "collapsed": false
      }
    },
    {
      "cell_type": "code",
      "source": [
        "from pyspark.sql.functions import regexp_replace, col, substring, length, split, lit, when#, otherwise\r\n",
        "from pyspark.sql.types import IntegerType\r\n",
        "\r\n",
        "iowaPopulationRefined = (\r\n",
        "    iowaPopulation\r\n",
        "        .withColumn(\"County\", \r\n",
        "            split(col(\"County\").substr(lit(2), length(col(\"County\"))), \" County\").getItem(0))\r\n",
        "         .withColumn(\"Population\", \r\n",
        "            regexp_replace(col(\"Population\"), \",\", \"\")\r\n",
        "            .astype(IntegerType())\r\n",
        "         \r\n",
        "        )\r\n",
        ")\r\n",
        "\r\n",
        "iowaPopulationRefined = iowaPopulationRefined.withColumn(\"PopulationVolume\", when(col(\"Population\") > 15000, \"Over\").otherwise(\"Below\"))\r\n",
        "iowaPopulationRefined.write.mode(\"overwrite\").saveAsTable(\"iowa.iowapopulation\")"
      ],
      "outputs": [
        {
          "output_type": "display_data",
          "data": {
            "application/vnd.livy.statement-meta+json": {
              "spark_pool": "efsynapsespark",
              "session_id": 24,
              "statement_id": 43,
              "state": "finished",
              "livy_statement_state": "available",
              "queued_time": "2022-04-12T15:44:35.2149536Z",
              "session_start_time": null,
              "execution_start_time": "2022-04-12T15:44:35.6493014Z",
              "execution_finish_time": "2022-04-12T15:44:42.9821621Z"
            },
            "text/plain": "StatementMeta(efsynapsespark, 24, 43, Finished, Available)"
          },
          "metadata": {}
        }
      ],
      "execution_count": 43,
      "metadata": {
        "jupyter": {
          "source_hidden": false,
          "outputs_hidden": false
        },
        "nteract": {
          "transient": {
            "deleting": false
          }
        },
        "collapsed": false
      }
    },
    {
      "cell_type": "code",
      "source": [
        "display(iowa2022.limit(5))\r\n",
        "iowa2022.printSchema()"
      ],
      "outputs": [],
      "execution_count": null,
      "metadata": {
        "jupyter": {
          "source_hidden": false,
          "outputs_hidden": false
        },
        "nteract": {
          "transient": {
            "deleting": false
          }
        },
        "collapsed": false
      }
    },
    {
      "cell_type": "code",
      "source": [
        "display(iowaPopulationRefined.limit(5))\r\n",
        "iowaPopulationRefined.printSchema()"
      ],
      "outputs": [],
      "execution_count": null,
      "metadata": {
        "jupyter": {
          "source_hidden": false,
          "outputs_hidden": false
        },
        "nteract": {
          "transient": {
            "deleting": false
          }
        },
        "collapsed": false
      }
    },
    {
      "cell_type": "code",
      "source": [
        "#Data source: Data Frame\r\n",
        "\r\n",
        "from pyspark.sql.functions import lower, sum, avg, col, initcap, round, date_format, trunc, first, row_number\r\n",
        "from pyspark.sql.window import Window\r\n",
        "\r\n",
        "rowNumberWindow = Window.partitionBy(col(\"Date\")).orderBy(col(\"County\"))\r\n",
        "sumWindow1 = Window.partitionBy(col(\"Date\"))\r\n",
        "\r\n",
        "iowa2022agg = (\r\n",
        "    iowa2022\r\n",
        "        .withColumn(\"County\", initcap(\"County\"))\r\n",
        "        .withColumn(\"Date\", trunc(col(\"Date\"), \"month\"))\r\n",
        "        .filter( (col(\"Date\").isNotNull()) & (col(\"Date\") >= \"2022-01-01\") )\r\n",
        "        .join(iowaPopulationRefined, on=\"County\", how=\"leftouter\")\r\n",
        "        .groupBy(col(\"Date\"), col(\"County\"))\r\n",
        "        .agg(\r\n",
        "            round(sum(\"SaleDollars\")).alias(\"Sum of Sales\"), \r\n",
        "            round(avg(\"SaleDollars\"), 2).alias(\"Avg of Sales\"), \r\n",
        "            first(iowaPopulationRefined[\"Population\"]).alias(\"Population\"),\r\n",
        "            )\r\n",
        "        .filter( (col(\"Sum of Sales\").between(10, 1000000)) & (col(\"County\").like(\"M%\")) )\r\n",
        "        .withColumn(\"Rank\", row_number().over(rowNumberWindow))\r\n",
        "        .withColumn(\"Sum per Month\", sum(col(\"Sum of Sales\")).over(sumWindow1))\r\n",
        "        .orderBy(col(\"Date\").desc(), col(\"County\").asc())\r\n",
        "        .show(20)\r\n",
        ")"
      ],
      "outputs": [],
      "execution_count": null,
      "metadata": {
        "jupyter": {
          "source_hidden": false,
          "outputs_hidden": false
        },
        "nteract": {
          "transient": {
            "deleting": false
          }
        }
      }
    },
    {
      "cell_type": "code",
      "source": [
        "%%sql\r\n",
        "--Data source: databricks tables\r\n",
        "SELECT\r\n",
        "   TRUNC(i22.Date, \"MM\") AS `Date`\r\n",
        "  ,INITCAP(i22.County) AS `County`\r\n",
        "  ,ROUND(SUM(i22.SaleDollars)) AS `Sum of Sales`\r\n",
        "  ,ROUND(AVG(i22.SaleDollars), 2) AS `Avg of Sales`\r\n",
        "  ,FIRST(ip.Population) AS `Population`\r\n",
        "  ,ROW_NUMBER() OVER(PARTITION BY TRUNC(i22.Date, \"MM\") ORDER BY INITCAP(i22.County)) AS `Rank`\r\n",
        "  ,SUM(SUM(ROUND(i22.SaleDollars))) OVER(PARTITION BY TRUNC(i22.Date, \"MM\")) AS `Sum per Month`\r\n",
        "FROM iowa.iowa2022 i22\r\n",
        "LEFT JOIN iowa.iowapopulation ip\r\n",
        "    ON INITCAP(i22.County) = ip.County\r\n",
        "WHERE `Date` IS NOT NULL AND `Date` >= \"2022-01-01\"\r\n",
        "GROUP BY TRUNC(i22.Date, \"MM\"), INITCAP(i22.County)\r\n",
        "HAVING `Sum of Sales` BETWEEN 10 AND 1000000 AND `County` LIKE \"M%\"\r\n",
        "ORDER BY `Date` DESC, `County` ASC\r\n"
      ],
      "outputs": [],
      "execution_count": null,
      "metadata": {
        "jupyter": {
          "source_hidden": false,
          "outputs_hidden": false
        },
        "nteract": {
          "transient": {
            "deleting": false
          }
        },
        "microsoft": {
          "language": "sparksql"
        },
        "collapsed": false
      }
    },
    {
      "cell_type": "code",
      "source": [
        "iowa2022.select(first(col(\"City\"))).show()"
      ],
      "outputs": [],
      "execution_count": null,
      "metadata": {
        "jupyter": {
          "source_hidden": false,
          "outputs_hidden": false
        },
        "nteract": {
          "transient": {
            "deleting": false
          }
        }
      }
    },
    {
      "cell_type": "code",
      "source": [
        "i = iowaPopulationRefined.take(2)\r\n",
        "print(type(i))\r\n",
        "\r\n",
        "for i1 in i:\r\n",
        "    print(i1)"
      ],
      "outputs": [],
      "execution_count": null,
      "metadata": {
        "jupyter": {
          "source_hidden": false,
          "outputs_hidden": false
        },
        "nteract": {
          "transient": {
            "deleting": false
          }
        }
      }
    }
  ],
  "metadata": {
    "kernelspec": {
      "name": "synapse_pyspark",
      "language": "Python",
      "display_name": "Synapse PySpark"
    },
    "language_info": {
      "name": "python"
    },
    "kernel_info": {
      "name": "synapse_pyspark"
    },
    "description": null,
    "save_output": true,
    "synapse_widget": {
      "version": "0.1",
      "state": {}
    }
  },
  "nbformat": 4,
  "nbformat_minor": 2
}