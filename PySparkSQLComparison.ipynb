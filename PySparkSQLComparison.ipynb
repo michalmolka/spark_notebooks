{
  "cells": [
    {
      "cell_type": "code",
      "source": [
        "%%pyspark\r\n",
        "\r\n",
        "spark.sql(\"create database iowa\")"
      ],
      "outputs": [],
      "execution_count": null,
      "metadata": {
        "jupyter": {
          "source_hidden": false,
          "outputs_hidden": false
        },
        "nteract": {
          "transient": {
            "deleting": false
          }
        },
        "microsoft": {
          "language": "python"
        }
      }
    },
    {
      "cell_type": "code",
      "source": [
        "%%pyspark\r\n",
        "\r\n",
        "df = spark.read.load('abfss://iowabyyear@eightfive.dfs.core.windows.net/IowaLiquorSalesdf2022.parquet', format='parquet')\r\n",
        "df.write.mode(\"overwrite\").saveAsTable(\"iowa.Iowa2022\")\r\n",
        "iowa2022 = sqlContext.table(\"iowa.iowa2022\")"
      ],
      "outputs": [
        {
          "output_type": "display_data",
          "data": {
            "application/vnd.livy.statement-meta+json": {
              "spark_pool": "efsynapsespark",
              "session_id": 20,
              "statement_id": 2,
              "state": "finished",
              "livy_statement_state": "available",
              "queued_time": "2022-04-11T20:08:27.1263251Z",
              "session_start_time": null,
              "execution_start_time": "2022-04-11T20:08:28.1556709Z",
              "execution_finish_time": "2022-04-11T20:09:01.9688419Z"
            },
            "text/plain": "StatementMeta(efsynapsespark, 20, 2, Finished, Available)"
          },
          "metadata": {}
        }
      ],
      "execution_count": 3,
      "metadata": {
        "jupyter": {
          "source_hidden": false,
          "outputs_hidden": false
        },
        "nteract": {
          "transient": {
            "deleting": false
          }
        },
        "microsoft": {
          "language": "python"
        }
      }
    },
    {
      "cell_type": "code",
      "source": [
        "%%pyspark\r\n",
        "from pyspark.sql.types import StringType, DecimalType, IntegerType\r\n",
        "\r\n",
        "iowaPopulation = spark.read.load('abfss://iowafiles@eightfive.dfs.core.windows.net/IowaPopulation.csv', format='csv', header=True)\r\n"
      ],
      "outputs": [
        {
          "output_type": "display_data",
          "data": {
            "application/vnd.livy.statement-meta+json": {
              "spark_pool": "efsynapsespark",
              "session_id": 20,
              "statement_id": 3,
              "state": "finished",
              "livy_statement_state": "available",
              "queued_time": "2022-04-11T20:09:10.1224363Z",
              "session_start_time": null,
              "execution_start_time": "2022-04-11T20:09:10.5052531Z",
              "execution_finish_time": "2022-04-11T20:09:12.7772525Z"
            },
            "text/plain": "StatementMeta(efsynapsespark, 20, 3, Finished, Available)"
          },
          "metadata": {}
        }
      ],
      "execution_count": 4,
      "metadata": {
        "jupyter": {
          "source_hidden": false,
          "outputs_hidden": false
        },
        "nteract": {
          "transient": {
            "deleting": false
          }
        },
        "microsoft": {
          "language": "python"
        },
        "collapsed": false
      }
    },
    {
      "cell_type": "code",
      "source": [
        "from pyspark.sql.functions import regexp_replace, col, substring, length, split, lit\r\n",
        "from pyspark.sql.types import IntegerType\r\n",
        "\r\n",
        "iowaPopulationRefined = (\r\n",
        "    iowaPopulation\r\n",
        "        .withColumn(\"County\", \r\n",
        "            split(col(\"County\").substr(lit(2), length(col(\"County\"))), \" County\").getItem(0))\r\n",
        "         .withColumn(\"Population\", \r\n",
        "            regexp_replace(col(\"Population\"), \",\", \"\")\r\n",
        "            .astype(IntegerType()), \r\n",
        "        )\r\n",
        ")\r\n",
        "iowaPopulationRefined.write.mode(\"overwrite\").saveAsTable(\"iowa.iowapopulation\")"
      ],
      "outputs": [
        {
          "output_type": "display_data",
          "data": {
            "application/vnd.livy.statement-meta+json": {
              "spark_pool": "efsynapsespark",
              "session_id": 20,
              "statement_id": 5,
              "state": "finished",
              "livy_statement_state": "available",
              "queued_time": "2022-04-11T20:09:34.5101309Z",
              "session_start_time": null,
              "execution_start_time": "2022-04-11T20:09:34.9091309Z",
              "execution_finish_time": "2022-04-11T20:09:43.8367547Z"
            },
            "text/plain": "StatementMeta(efsynapsespark, 20, 5, Finished, Available)"
          },
          "metadata": {}
        }
      ],
      "execution_count": 6,
      "metadata": {
        "jupyter": {
          "source_hidden": false,
          "outputs_hidden": false
        },
        "nteract": {
          "transient": {
            "deleting": false
          }
        },
        "collapsed": false
      }
    },
    {
      "cell_type": "code",
      "source": [
        "display(iowa2022.limit(5))\r\n",
        "iowa2022.printSchema()"
      ],
      "outputs": [
        {
          "output_type": "display_data",
          "data": {
            "application/vnd.livy.statement-meta+json": {
              "spark_pool": "efsynapsespark",
              "session_id": 20,
              "statement_id": 10,
              "state": "finished",
              "livy_statement_state": "available",
              "queued_time": "2022-04-11T20:11:36.7698726Z",
              "session_start_time": null,
              "execution_start_time": "2022-04-11T20:11:37.2338347Z",
              "execution_finish_time": "2022-04-11T20:11:39.8042459Z"
            },
            "text/plain": "StatementMeta(efsynapsespark, 20, 10, Finished, Available)"
          },
          "metadata": {}
        },
        {
          "output_type": "display_data",
          "data": {
            "application/vnd.synapse.widget-view+json": {
              "widget_id": "9750cae3-078c-422d-bfbe-5b81dfeac4f1",
              "widget_type": "Synapse.DataFrame"
            },
            "text/plain": "SynapseWidget(Synapse.DataFrame, 9750cae3-078c-422d-bfbe-5b81dfeac4f1)"
          },
          "metadata": {}
        },
        {
          "output_type": "stream",
          "name": "stdout",
          "text": [
            "\nroot\n |-- InvoiceItemNumber: string (nullable = true)\n |-- Date: timestamp (nullable = true)\n |-- StoreNumber: long (nullable = true)\n |-- StoreName: string (nullable = true)\n |-- Address: string (nullable = true)\n |-- City: string (nullable = true)\n |-- ZipCode: long (nullable = true)\n |-- StoreLocation: string (nullable = true)\n |-- CountyNumber: long (nullable = true)\n |-- County: string (nullable = true)\n |-- CategoryNumber: long (nullable = true)\n |-- CategoryName: string (nullable = true)\n |-- VendorNumber: long (nullable = true)\n |-- VendorName: string (nullable = true)\n |-- ItemNumber: long (nullable = true)\n |-- ItemDescription: string (nullable = true)\n |-- Pack: long (nullable = true)\n |-- BottleVolumeMl: long (nullable = true)\n |-- StateBottleCost: double (nullable = true)\n |-- StateBottleRetail: double (nullable = true)\n |-- BottlesSold: long (nullable = true)\n |-- SaleDollars: double (nullable = true)\n |-- VolumeSoldLiters: double (nullable = true)\n |-- VolumeSoldGallons: double (nullable = true)\n |-- __index_level_0__: long (nullable = true)"
          ]
        }
      ],
      "execution_count": 11,
      "metadata": {
        "jupyter": {
          "source_hidden": false,
          "outputs_hidden": false
        },
        "nteract": {
          "transient": {
            "deleting": false
          }
        },
        "collapsed": false
      }
    },
    {
      "cell_type": "code",
      "source": [
        "display(iowaPopulationRefined.limit(5))\r\n",
        "iowaPopulationRefined.printSchema()"
      ],
      "outputs": [
        {
          "output_type": "display_data",
          "data": {
            "application/vnd.livy.statement-meta+json": {
              "spark_pool": "efsynapsespark",
              "session_id": 20,
              "statement_id": 11,
              "state": "finished",
              "livy_statement_state": "available",
              "queued_time": "2022-04-11T20:13:20.8536843Z",
              "session_start_time": "2022-04-11T20:13:20.920752Z",
              "execution_start_time": "2022-04-11T20:13:22.7491771Z",
              "execution_finish_time": "2022-04-11T20:13:24.138837Z"
            },
            "text/plain": "StatementMeta(efsynapsespark, 20, 11, Finished, Available)"
          },
          "metadata": {}
        },
        {
          "output_type": "display_data",
          "data": {
            "application/vnd.synapse.widget-view+json": {
              "widget_id": "c4a0dbcb-e47b-43a1-af4d-fc1b1918e060",
              "widget_type": "Synapse.DataFrame"
            },
            "text/plain": "SynapseWidget(Synapse.DataFrame, c4a0dbcb-e47b-43a1-af4d-fc1b1918e060)"
          },
          "metadata": {}
        },
        {
          "output_type": "stream",
          "name": "stdout",
          "text": [
            "\nroot\n |-- County: string (nullable = true)\n |-- Population: integer (nullable = true)"
          ]
        }
      ],
      "execution_count": 12,
      "metadata": {
        "jupyter": {
          "source_hidden": false,
          "outputs_hidden": false
        },
        "nteract": {
          "transient": {
            "deleting": false
          }
        },
        "collapsed": false
      }
    },
    {
      "cell_type": "code",
      "source": [
        "from pyspark.sql.functions import lower, sum, avg, col, initcap, round, date_format, trunc, first, row_number\r\n",
        "from pyspark.sql.window import Window\r\n",
        "\r\n",
        "rowNumberWindow = Window.partitionBy(col(\"Date\")).orderBy(col(\"County\"))\r\n",
        "sumWindow1 = Window.partitionBy(col(\"Date\"))\r\n",
        "\r\n",
        "iowa2022agg = (\r\n",
        "    iowa2022\r\n",
        "        .withColumn(\"County\", initcap(\"County\"))\r\n",
        "        .withColumn(\"Date\", trunc(col(\"Date\"), \"month\"))\r\n",
        "        .filter( (col(\"Date\").isNotNull()) & (col(\"Date\") >= \"2022-01-01\") )\r\n",
        "        .join(iowaPopulation, on=\"County\", how=\"leftouter\")\r\n",
        "        .groupBy(col(\"Date\"), col(\"County\"))\r\n",
        "        .agg(\r\n",
        "            round(sum(\"SaleDollars\")).alias(\"Sum of Sales\"), \r\n",
        "            round(avg(\"SaleDollars\"), 2).alias(\"Avg of Sales\"), \r\n",
        "            first(iowaPopulation[\"Population\"]).alias(\"Population\"))\r\n",
        "        .filter( (col(\"Sum of Sales\").between(10, 1000000)) & (col(\"County\").like(\"M%\")) )\r\n",
        "        .withColumn(\"Rank\", row_number().over(rowNumberWindow))\r\n",
        "        .withColumn(\"Sum per Month\", sum(col(\"Sum of Sales\")).over(sumWindow1))\r\n",
        "        .orderBy(col(\"Date\").desc(), col(\"County\").asc())\r\n",
        "        .show(20)\r\n",
        ")"
      ],
      "outputs": [
        {
          "output_type": "display_data",
          "data": {
            "application/vnd.livy.statement-meta+json": {
              "spark_pool": "efsynapsespark",
              "session_id": 20,
              "statement_id": 12,
              "state": "finished",
              "livy_statement_state": "available",
              "queued_time": "2022-04-11T20:14:10.2436647Z",
              "session_start_time": null,
              "execution_start_time": "2022-04-11T20:14:11.4818052Z",
              "execution_finish_time": "2022-04-11T20:14:23.6887526Z"
            },
            "text/plain": "StatementMeta(efsynapsespark, 20, 12, Finished, Available)"
          },
          "metadata": {}
        },
        {
          "output_type": "stream",
          "name": "stdout",
          "text": [
            "+----------+----------+------------+------------+----------+----+-------------+\n|      Date|    County|Sum of Sales|Avg of Sales|Population|Rank|Sum per Month|\n+----------+----------+------------+------------+----------+----+-------------+\n|2022-02-01|   Madison|     88990.0|      115.12|      null|   1|    1444671.0|\n|2022-02-01|   Mahaska|    130904.0|      130.25|      null|   2|    1444671.0|\n|2022-02-01|    Marion|    216441.0|      126.87|      null|   3|    1444671.0|\n|2022-02-01|  Marshall|    342940.0|      151.07|      null|   4|    1444671.0|\n|2022-02-01|     Mills|     64835.0|       88.09|      null|   5|    1444671.0|\n|2022-02-01|  Mitchell|     37954.0|       90.15|      null|   6|    1444671.0|\n|2022-02-01|    Monona|     46503.0|       56.44|      null|   7|    1444671.0|\n|2022-02-01|    Monroe|     35228.0|       152.5|      null|   8|    1444671.0|\n|2022-02-01|Montgomery|     78111.0|       166.9|      null|   9|    1444671.0|\n|2022-02-01| Muscatine|    402765.0|      129.59|      null|  10|    1444671.0|\n|2022-01-01|   Madison|     67739.0|      104.37|      null|   1|    1228382.0|\n|2022-01-01|   Mahaska|    130977.0|      108.16|      null|   2|    1228382.0|\n|2022-01-01|    Marion|    213304.0|      132.49|      null|   3|    1228382.0|\n|2022-01-01|  Marshall|    286855.0|      133.98|      null|   4|    1228382.0|\n|2022-01-01|     Mills|     62821.0|       79.32|      null|   5|    1228382.0|\n|2022-01-01|  Mitchell|     36344.0|       79.35|      null|   6|    1228382.0|\n|2022-01-01|    Monona|     51714.0|       58.63|      null|   7|    1228382.0|\n|2022-01-01|    Monroe|     33046.0|      116.77|      null|   8|    1228382.0|\n|2022-01-01|Montgomery|     55733.0|      131.45|      null|   9|    1228382.0|\n|2022-01-01| Muscatine|    289849.0|      110.84|      null|  10|    1228382.0|\n+----------+----------+------------+------------+----------+----+-------------+"
          ]
        }
      ],
      "execution_count": 13,
      "metadata": {
        "jupyter": {
          "source_hidden": false,
          "outputs_hidden": false
        },
        "nteract": {
          "transient": {
            "deleting": false
          }
        }
      }
    },
    {
      "cell_type": "code",
      "source": [
        "%%sql\r\n",
        "\r\n",
        "SELECT\r\n",
        "   TRUNC(i22.Date, \"MM\") AS `Date`\r\n",
        "  ,INITCAP(i22.County) AS `County`\r\n",
        "  ,ROUND(SUM(i22.SaleDollars)) AS `Sum of Sales`\r\n",
        "  ,ROUND(AVG(i22.SaleDollars), 2) AS `Avg of Sales`\r\n",
        "  ,FIRST(ip.Population) AS `Population`\r\n",
        "  ,ROW_NUMBER() OVER(PARTITION BY TRUNC(i22.Date, \"MM\") ORDER BY INITCAP(i22.County)) AS `Rank`\r\n",
        "  ,SUM(SUM(ROUND(i22.SaleDollars))) OVER(PARTITION BY TRUNC(i22.Date, \"MM\")) AS `Sum per Month`\r\n",
        "FROM iowa.iowa2022 i22\r\n",
        "LEFT JOIN iowa.iowapopulation ip\r\n",
        "    ON INITCAP(i22.County) = ip.County\r\n",
        "WHERE `Date` IS NOT NULL AND `Date` >= \"2022-01-01\"\r\n",
        "GROUP BY TRUNC(i22.Date, \"MM\"), INITCAP(i22.County)\r\n",
        "HAVING `Sum of Sales` BETWEEN 10 AND 1000000 AND `County` LIKE \"M%\"\r\n",
        "ORDER BY `Date` DESC, `County` ASC\r\n"
      ],
      "outputs": [
        {
          "output_type": "display_data",
          "data": {
            "application/vnd.livy.statement-meta+json": {
              "spark_pool": "efsynapsespark",
              "session_id": 20,
              "statement_id": 13,
              "state": "finished",
              "livy_statement_state": "available",
              "queued_time": "2022-04-11T20:15:58.930422Z",
              "session_start_time": "2022-04-11T20:15:58.9755112Z",
              "execution_start_time": "2022-04-11T20:16:01.2301403Z",
              "execution_finish_time": "2022-04-11T20:16:13.1286137Z"
            },
            "text/plain": "StatementMeta(efsynapsespark, 20, 13, Finished, Available)"
          },
          "metadata": {}
        },
        {
          "output_type": "execute_result",
          "execution_count": 14,
          "data": {
            "application/vnd.synapse.sparksql-result+json": {
              "schema": {
                "type": "struct",
                "fields": [
                  {
                    "name": "Date",
                    "type": "date",
                    "nullable": true,
                    "metadata": {}
                  },
                  {
                    "name": "County",
                    "type": "string",
                    "nullable": true,
                    "metadata": {}
                  },
                  {
                    "name": "Sum of Sales",
                    "type": "double",
                    "nullable": true,
                    "metadata": {}
                  },
                  {
                    "name": "Avg of Sales",
                    "type": "double",
                    "nullable": true,
                    "metadata": {}
                  },
                  {
                    "name": "Population",
                    "type": "integer",
                    "nullable": true,
                    "metadata": {}
                  },
                  {
                    "name": "Rank",
                    "type": "integer",
                    "nullable": true,
                    "metadata": {}
                  },
                  {
                    "name": "Sum per Month",
                    "type": "double",
                    "nullable": true,
                    "metadata": {}
                  }
                ]
              },
              "data": [
                [
                  "2022-02-01",
                  "Madison",
                  88990,
                  115.12,
                  16338,
                  1,
                  1445293
                ],
                [
                  "2022-02-01",
                  "Mahaska",
                  130904,
                  130.25,
                  22095,
                  2,
                  1445293
                ],
                [
                  "2022-02-01",
                  "Marion",
                  216441,
                  126.87,
                  33253,
                  3,
                  1445293
                ],
                [
                  "2022-02-01",
                  "Marshall",
                  342940,
                  151.07,
                  39369,
                  4,
                  1445293
                ],
                [
                  "2022-02-01",
                  "Mills",
                  64835,
                  88.09,
                  15109,
                  5,
                  1445293
                ],
                [
                  "2022-02-01",
                  "Mitchell",
                  37954,
                  90.15,
                  10586,
                  6,
                  1445293
                ],
                [
                  "2022-02-01",
                  "Monona",
                  46503,
                  56.44,
                  8615,
                  7,
                  1445293
                ],
                [
                  "2022-02-01",
                  "Monroe",
                  35228,
                  152.5,
                  7707,
                  8,
                  1445293
                ],
                [
                  "2022-02-01",
                  "Montgomery",
                  78111,
                  166.9,
                  9917,
                  9,
                  1445293
                ],
                [
                  "2022-02-01",
                  "Muscatine",
                  402765,
                  129.59,
                  42664,
                  10,
                  1445293
                ],
                [
                  "2022-01-01",
                  "Madison",
                  67739,
                  104.37,
                  16338,
                  1,
                  1229011
                ],
                [
                  "2022-01-01",
                  "Mahaska",
                  130977,
                  108.16,
                  22095,
                  2,
                  1229011
                ],
                [
                  "2022-01-01",
                  "Marion",
                  213304,
                  132.49,
                  33253,
                  3,
                  1229011
                ],
                [
                  "2022-01-01",
                  "Marshall",
                  286855,
                  133.98,
                  39369,
                  4,
                  1229011
                ],
                [
                  "2022-01-01",
                  "Mills",
                  62821,
                  79.32,
                  15109,
                  5,
                  1229011
                ],
                [
                  "2022-01-01",
                  "Mitchell",
                  36344,
                  79.35,
                  10586,
                  6,
                  1229011
                ],
                [
                  "2022-01-01",
                  "Monona",
                  51714,
                  58.63,
                  8615,
                  7,
                  1229011
                ],
                [
                  "2022-01-01",
                  "Monroe",
                  33046,
                  116.77,
                  7707,
                  8,
                  1229011
                ],
                [
                  "2022-01-01",
                  "Montgomery",
                  55733,
                  131.45,
                  9917,
                  9,
                  1229011
                ],
                [
                  "2022-01-01",
                  "Muscatine",
                  289849,
                  110.84,
                  42664,
                  10,
                  1229011
                ]
              ]
            },
            "text/plain": "<Spark SQL result set with 20 rows and 7 fields>"
          },
          "metadata": {}
        }
      ],
      "execution_count": 14,
      "metadata": {
        "jupyter": {
          "source_hidden": false,
          "outputs_hidden": false
        },
        "nteract": {
          "transient": {
            "deleting": false
          }
        },
        "microsoft": {
          "language": "sparksql"
        },
        "collapsed": false
      }
    }
  ],
  "metadata": {
    "kernelspec": {
      "name": "synapse_pyspark",
      "language": "Python",
      "display_name": "Synapse PySpark"
    },
    "language_info": {
      "name": "python"
    },
    "kernel_info": {
      "name": "synapse_pyspark"
    },
    "description": null,
    "save_output": true,
    "synapse_widget": {
      "version": "0.1",
      "state": {
        "9750cae3-078c-422d-bfbe-5b81dfeac4f1": {
          "type": "Synapse.DataFrame",
          "sync_state": {
            "table": {
              "rows": [
                {
                  "0": "INV-43474200042",
                  "1": "2022-01-03 00:00:00",
                  "2": "3417",
                  "3": "Big G Food Store",
                  "4": "Po Box 261  310 W Dillon",
                  "5": "Marengo",
                  "6": "52301",
                  "8": "48",
                  "9": "IOWA",
                  "10": "1081600",
                  "11": "Whiskey Liqueur",
                  "12": "421",
                  "13": "SAZERAC COMPANY  INC",
                  "14": "64904",
                  "15": "Fireball Cinnamon Whiskey PET",
                  "16": "6",
                  "17": "1750",
                  "18": "15.33",
                  "19": "23.0",
                  "20": "3",
                  "21": "69.0",
                  "22": "5.25",
                  "23": "1.38",
                  "24": "11149954"
                },
                {
                  "0": "INV-43479700002",
                  "1": "2022-01-03 00:00:00",
                  "2": "4638",
                  "3": "GD Xpress / Davenport",
                  "4": "4607 N Pine St",
                  "5": "Davenport",
                  "6": "52804",
                  "8": "82",
                  "9": "SCOTT",
                  "10": "1081400",
                  "11": "American Schnapps",
                  "12": "421",
                  "13": "SAZERAC COMPANY  INC",
                  "14": "84166",
                  "15": "99 Blackberries",
                  "16": "12",
                  "17": "750",
                  "18": "7.5",
                  "19": "11.25",
                  "20": "12",
                  "21": "135.0",
                  "22": "9.0",
                  "23": "2.37",
                  "24": "11149955"
                },
                {
                  "0": "INV-43482500024",
                  "1": "2022-01-03 00:00:00",
                  "2": "5100",
                  "3": "Sam's Food",
                  "4": "648 N  Marquette St",
                  "5": "Davenport",
                  "6": "52802",
                  "7": "POINT (-90.590879 41.526469)",
                  "8": "82",
                  "9": "SCOTT",
                  "10": "1011100",
                  "11": "Blended Whiskies",
                  "12": "297",
                  "13": "Laird & Company",
                  "14": "23826",
                  "15": "Five Star",
                  "16": "12",
                  "17": "750",
                  "18": "3.5",
                  "19": "5.25",
                  "20": "12",
                  "21": "63.0",
                  "22": "9.0",
                  "23": "2.37",
                  "24": "11149956"
                },
                {
                  "0": "INV-43485100012",
                  "1": "2022-01-03 00:00:00",
                  "2": "5336",
                  "3": "Express Mart",
                  "4": "4804 S Highway 61",
                  "5": "Muscatine",
                  "6": "52761",
                  "8": "70",
                  "9": "MUSCATINE",
                  "10": "1011200",
                  "11": "Straight Bourbon Whiskies",
                  "12": "619",
                  "13": "Campari America",
                  "14": "22156",
                  "15": "Wild Turkey 101",
                  "16": "12",
                  "17": "750",
                  "18": "14.0",
                  "19": "21.0",
                  "20": "2",
                  "21": "42.0",
                  "22": "1.5",
                  "23": "0.39",
                  "24": "11149957"
                },
                {
                  "0": "INV-43489900011",
                  "1": "2022-01-03 00:00:00",
                  "2": "5010",
                  "3": "Sac City Food Pride",
                  "4": "106 S 16th St",
                  "5": "Sac City",
                  "6": "50583",
                  "7": "POINT (-95.002637 42.422404)",
                  "8": "81",
                  "9": "SAC",
                  "10": "1022100",
                  "11": "Mixto Tequila",
                  "12": "434",
                  "13": "LUXCO INC",
                  "14": "89447",
                  "15": "La Prima Gold",
                  "16": "12",
                  "17": "1000",
                  "18": "7.34",
                  "19": "11.01",
                  "20": "4",
                  "21": "44.04",
                  "22": "4.0",
                  "23": "1.05",
                  "24": "11149958"
                }
              ],
              "schema": [
                {
                  "key": "0",
                  "name": "InvoiceItemNumber",
                  "type": "string"
                },
                {
                  "key": "1",
                  "name": "Date",
                  "type": "timestamp"
                },
                {
                  "key": "2",
                  "name": "StoreNumber",
                  "type": "bigint"
                },
                {
                  "key": "3",
                  "name": "StoreName",
                  "type": "string"
                },
                {
                  "key": "4",
                  "name": "Address",
                  "type": "string"
                },
                {
                  "key": "5",
                  "name": "City",
                  "type": "string"
                },
                {
                  "key": "6",
                  "name": "ZipCode",
                  "type": "bigint"
                },
                {
                  "key": "7",
                  "name": "StoreLocation",
                  "type": "string"
                },
                {
                  "key": "8",
                  "name": "CountyNumber",
                  "type": "bigint"
                },
                {
                  "key": "9",
                  "name": "County",
                  "type": "string"
                },
                {
                  "key": "10",
                  "name": "CategoryNumber",
                  "type": "bigint"
                },
                {
                  "key": "11",
                  "name": "CategoryName",
                  "type": "string"
                },
                {
                  "key": "12",
                  "name": "VendorNumber",
                  "type": "bigint"
                },
                {
                  "key": "13",
                  "name": "VendorName",
                  "type": "string"
                },
                {
                  "key": "14",
                  "name": "ItemNumber",
                  "type": "bigint"
                },
                {
                  "key": "15",
                  "name": "ItemDescription",
                  "type": "string"
                },
                {
                  "key": "16",
                  "name": "Pack",
                  "type": "bigint"
                },
                {
                  "key": "17",
                  "name": "BottleVolumeMl",
                  "type": "bigint"
                },
                {
                  "key": "18",
                  "name": "StateBottleCost",
                  "type": "double"
                },
                {
                  "key": "19",
                  "name": "StateBottleRetail",
                  "type": "double"
                },
                {
                  "key": "20",
                  "name": "BottlesSold",
                  "type": "bigint"
                },
                {
                  "key": "21",
                  "name": "SaleDollars",
                  "type": "double"
                },
                {
                  "key": "22",
                  "name": "VolumeSoldLiters",
                  "type": "double"
                },
                {
                  "key": "23",
                  "name": "VolumeSoldGallons",
                  "type": "double"
                },
                {
                  "key": "24",
                  "name": "__index_level_0__",
                  "type": "bigint"
                }
              ],
              "truncated": false
            },
            "isSummary": false,
            "language": "scala"
          },
          "persist_state": {
            "view": {
              "type": "details",
              "tableOptions": {},
              "chartOptions": {
                "chartType": "bar",
                "aggregationType": "sum",
                "categoryFieldKeys": [
                  "0"
                ],
                "seriesFieldKeys": [
                  "2"
                ],
                "isStacked": false
              }
            }
          }
        },
        "c4a0dbcb-e47b-43a1-af4d-fc1b1918e060": {
          "type": "Synapse.DataFrame",
          "sync_state": {
            "table": {
              "rows": [
                {
                  "0": "Adair",
                  "1": "7152"
                },
                {
                  "0": "Adams",
                  "1": "3602"
                },
                {
                  "0": "Allamakee",
                  "1": "13687"
                },
                {
                  "0": "Appanoose",
                  "1": "12426"
                },
                {
                  "0": "Audubon",
                  "1": "5496"
                }
              ],
              "schema": [
                {
                  "key": "0",
                  "name": "County",
                  "type": "string"
                },
                {
                  "key": "1",
                  "name": "Population",
                  "type": "int"
                }
              ],
              "truncated": false
            },
            "isSummary": false,
            "language": "scala"
          },
          "persist_state": {
            "view": {
              "type": "details",
              "tableOptions": {},
              "chartOptions": {
                "chartType": "bar",
                "aggregationType": "sum",
                "categoryFieldKeys": [
                  "0"
                ],
                "seriesFieldKeys": [
                  "1"
                ],
                "isStacked": false
              }
            }
          }
        }
      }
    }
  },
  "nbformat": 4,
  "nbformat_minor": 2
}